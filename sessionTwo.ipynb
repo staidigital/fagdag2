{
 "cells": [
  {
   "cell_type": "markdown",
   "metadata": {},
   "source": [
    "## Oppgaver som krever løkker\n",
    "\n",
    "### Oppgave 1\n",
    "Skriv et program som summerer tallene fra 1 til et heltall n, der n er angitt av brukeren."
   ]
  },
  {
   "cell_type": "code",
   "execution_count": null,
   "metadata": {},
   "outputs": [],
   "source": []
  },
  {
   "cell_type": "markdown",
   "metadata": {},
   "source": [
    "### Oppgave 2\n",
    "Skriv et program som tar inn et heltall fra brukeren og skriver ut multiplikasjonstabellen for dette tallet fra 1 til 10."
   ]
  },
  {
   "cell_type": "code",
   "execution_count": null,
   "metadata": {},
   "outputs": [],
   "source": []
  },
  {
   "cell_type": "markdown",
   "metadata": {},
   "source": [
    "### Oppgave 3\n",
    "Skriv et program som tar inn to heltall a og b fra brukeren og skriver ut alle oddetallene i intervallet mellom a og b."
   ]
  },
  {
   "cell_type": "code",
   "execution_count": null,
   "metadata": {},
   "outputs": [],
   "source": []
  },
  {
   "cell_type": "markdown",
   "metadata": {},
   "source": [
    "### Oppgave 4\n",
    "Skriv et program som summerer tallene fra 1 til et heltall n, der n er angitt av brukeren, men bare summere tallene som er delelige med 3 eller 5."
   ]
  },
  {
   "cell_type": "code",
   "execution_count": null,
   "metadata": {},
   "outputs": [],
   "source": []
  },
  {
   "cell_type": "markdown",
   "metadata": {},
   "source": [
    "### Oppgave 5\n",
    "Skriv et program som genererer de første n tallene i Fibonacci-sekvensen, der n er angitt av brukeren. Fibonacci-sekvensen starter med tallene 0 og 1, og hvert påfølgende tall er summen av de to foregående tallene."
   ]
  },
  {
   "cell_type": "code",
   "execution_count": null,
   "metadata": {},
   "outputs": [],
   "source": []
  }
 ],
 "metadata": {
  "language_info": {
   "name": "python"
  }
 },
 "nbformat": 4,
 "nbformat_minor": 2
}
