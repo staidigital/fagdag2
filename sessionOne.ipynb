{
 "cells": [
  {
   "cell_type": "markdown",
   "metadata": {},
   "source": [
    "## Oppgaver - repetisjon"
   ]
  },
  {
   "cell_type": "markdown",
   "metadata": {},
   "source": [
    "La oss sjekke at ting fungerer! Skriv et program som printer en lite hilsen (i boksen under) og trykk på play-knappen øverst på siden. "
   ]
  },
  {
   "cell_type": "code",
   "execution_count": null,
   "metadata": {},
   "outputs": [],
   "source": []
  },
  {
   "cell_type": "markdown",
   "metadata": {},
   "source": [
    "### Oppgave 1\n",
    "Fullfør programmet under slik at det printer gjennomsnittstemperaturen fra de tre temperaturmålingene som er lagret i hver sin variabel. Print svaret med en passende tekst. \n"
   ]
  },
  {
   "cell_type": "code",
   "execution_count": 1,
   "metadata": {},
   "outputs": [],
   "source": [
    "temp1 = 8\n",
    "temp2 = 2\n",
    "temp3 = 10\n",
    "\n",
    "#lag en variabel for gjennomsnittet av temp1, temp2 og temp3\n",
    "\n",
    "#print gjennomsnittet med en setning\n"
   ]
  },
  {
   "cell_type": "markdown",
   "metadata": {},
   "source": [
    "### Oppgave 2\n",
    "\n",
    "Lag et program som gjennomfører addisjon, subtraksjon, multiplikasjon og divisjon av to tall som hentes inn fra brukeren."
   ]
  },
  {
   "cell_type": "code",
   "execution_count": null,
   "metadata": {},
   "outputs": [],
   "source": []
  },
  {
   "cell_type": "markdown",
   "metadata": {},
   "source": [
    "### Oppgave 3\n",
    "Skriv et program som tar inn et heltall fra brukeren og sjekker om tallet er et oddetall eller et partall."
   ]
  },
  {
   "cell_type": "code",
   "execution_count": null,
   "metadata": {},
   "outputs": [],
   "source": []
  },
  {
   "cell_type": "markdown",
   "metadata": {},
   "source": [
    "### Oppgave 4\n",
    "Skriv et program som tar inn lengden av grunnlinjen og høyden til en trekant fra brukeren, og deretter regner ut arealet av trekanten."
   ]
  },
  {
   "cell_type": "code",
   "execution_count": null,
   "metadata": {},
   "outputs": [],
   "source": []
  },
  {
   "cell_type": "markdown",
   "metadata": {},
   "source": [
    "### Oppgave 5\n",
    "Skriv et program som tar inn koeffisientene a, b og c i en andregradslikning (ax^2 + bx + c = 0) fra brukeren, og sjekker om likningen er løsbar eller ikke. \n"
   ]
  },
  {
   "cell_type": "code",
   "execution_count": null,
   "metadata": {},
   "outputs": [],
   "source": [
    "a = float(input(\"Skriv inn a: \"))\n",
    "## Fullfør programmet"
   ]
  },
  {
   "cell_type": "markdown",
   "metadata": {},
   "source": [
    "### Oppgave 6\n",
    "Skriv et program som tar inn antall arbeidstimer og timeprisen fra brukeren. Beregn total lønn ved å multiplisere antall arbeidstimer med timeprisen, men gi en ekstra lønnsbonus på 10% dersom antall arbeidstimer er over 40."
   ]
  },
  {
   "cell_type": "code",
   "execution_count": null,
   "metadata": {},
   "outputs": [],
   "source": []
  }
 ],
 "metadata": {
  "kernelspec": {
   "display_name": "Python 3",
   "language": "python",
   "name": "python3"
  },
  "language_info": {
   "codemirror_mode": {
    "name": "ipython",
    "version": 3
   },
   "file_extension": ".py",
   "mimetype": "text/x-python",
   "name": "python",
   "nbconvert_exporter": "python",
   "pygments_lexer": "ipython3",
   "version": "3.11.5"
  }
 },
 "nbformat": 4,
 "nbformat_minor": 2
}
